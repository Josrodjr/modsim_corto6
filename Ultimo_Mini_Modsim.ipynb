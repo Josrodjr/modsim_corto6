{
  "nbformat": 4,
  "nbformat_minor": 0,
  "metadata": {
    "colab": {
      "name": "Ultimo Mini Modsim.ipynb",
      "provenance": [],
      "collapsed_sections": []
    },
    "kernelspec": {
      "name": "python3",
      "display_name": "Python 3"
    }
  },
  "cells": [
    {
      "cell_type": "code",
      "metadata": {
        "id": "ETRrFCATL_vU",
        "colab_type": "code",
        "colab": {}
      },
      "source": [
        "#Luis Diego Fernandez 16334\n",
        "#Jose Rodolfo Perez 16056\n",
        "\n",
        "import numpy as np\n",
        "from scipy.optimize import minimize"
      ],
      "execution_count": 0,
      "outputs": []
    },
    {
      "cell_type": "markdown",
      "metadata": {
        "id": "fO208jpUMjlv",
        "colab_type": "text"
      },
      "source": [
        "Task 1"
      ]
    },
    {
      "cell_type": "code",
      "metadata": {
        "id": "sWYf61cGM1OQ",
        "colab_type": "code",
        "outputId": "470b61ce-3a27-43f5-af5c-c7602bb6daf7",
        "colab": {
          "base_uri": "https://localhost:8080/",
          "height": 35
        }
      },
      "source": [
        "#codehere\n",
        "def obj(x):\n",
        "  x1 = x[0]\n",
        "  x2 = x[1]\n",
        "  return -(15 * x1)-(30 * x2)-(4*x1*x2)+(2*x1**2)+ (4*x2**2)\n",
        "\n",
        "def cons1(x):\n",
        "  x1 = x[0]\n",
        "  x2 = x[1]\n",
        "  return -x1 - 2*x2 + 30\n",
        "\n",
        "#init vals\n",
        "x0 = np.zeros(2)\n",
        "\n",
        "#params\n",
        "individual_limits = (0, np.inf)\n",
        "group_limits = (individual_limits, individual_limits)\n",
        "css = {'type': 'ineq', 'fun': cons1}\n",
        "\n",
        "#solution\n",
        "sol = minimize(obj, x0, method='SLSQP', bounds=group_limits, constraints=css)\n",
        "\n",
        "#print solution\n",
        "print(\"El maximo es: \", -sol.fun)"
      ],
      "execution_count": 0,
      "outputs": [
        {
          "output_type": "stream",
          "text": [
            "El maximo es:  269.9999999999978\n"
          ],
          "name": "stdout"
        }
      ]
    },
    {
      "cell_type": "markdown",
      "metadata": {
        "id": "8ugehVZZMzBS",
        "colab_type": "text"
      },
      "source": [
        "Task 2"
      ]
    },
    {
      "cell_type": "code",
      "metadata": {
        "id": "QfGHDu5qM8Td",
        "colab_type": "code",
        "outputId": "80d9f520-af9f-4b61-96de-7aba28796ac6",
        "colab": {
          "base_uri": "https://localhost:8080/",
          "height": 34
        }
      },
      "source": [
        "#codehere\n",
        "def obj_2(x):\n",
        "  x1 = x[0]\n",
        "  x2 = x[1]\n",
        "  return -(3 * x1)-(5 * x2)\n",
        "\n",
        "def cons1_2(x):\n",
        "  x1 = x[0]\n",
        "  x2 = x[1]\n",
        "  return 4 - x1\n",
        "\n",
        "def cons2_2(x):\n",
        "  x1 = x[0]\n",
        "  x2 = x[1]\n",
        "  return 12 - 2*x2\n",
        "\n",
        "def cons3_2(x):\n",
        "  x1 = x[0]\n",
        "  x2 = x[1]\n",
        "  return 18 - (3 * x1) - (2 * x2)\n",
        "\n",
        "#init vals\n",
        "x0 = np.zeros(2)\n",
        "\n",
        "#params\n",
        "individual_limits = (0, np.inf)\n",
        "group_limits = (individual_limits, individual_limits)\n",
        "css_1 = {'type': 'ineq', 'fun': cons1_2}\n",
        "css_2 = {'type': 'ineq', 'fun': cons2_2}\n",
        "css_3 = {'type': 'ineq', 'fun': cons3_2}\n",
        "group_constraints = (css_1, css_2, css_3)\n",
        "\n",
        "#solution\n",
        "sol = minimize(obj_2, x0, method='SLSQP', bounds=group_limits, constraints=group_constraints)\n",
        "\n",
        "#print solution\n",
        "print(\"El maximo es: \", -sol.fun)\n"
      ],
      "execution_count": 0,
      "outputs": [
        {
          "output_type": "stream",
          "text": [
            "El maximo es:  35.99999999999172\n"
          ],
          "name": "stdout"
        }
      ]
    },
    {
      "cell_type": "markdown",
      "metadata": {
        "id": "AkEYrzsOM9tA",
        "colab_type": "text"
      },
      "source": [
        "Task 3"
      ]
    },
    {
      "cell_type": "code",
      "metadata": {
        "id": "2d9Ruj7NM_D6",
        "colab_type": "code",
        "outputId": "71d8f5e5-80bb-4969-a6a4-ed0805ff7fbf",
        "colab": {
          "base_uri": "https://localhost:8080/",
          "height": 34
        }
      },
      "source": [
        "#codehere\n",
        "def obj_3(x):\n",
        "  x1 = x[0]\n",
        "  x2 = x[1]\n",
        "  return -(5 * x1)+(x1**2)-(8 * x2)+(2 * x2**2)\n",
        "\n",
        "def cons1_3(x):\n",
        "  x1 = x[0]\n",
        "  x2 = x[1]\n",
        "  return 6-(3 * x1)-(2 * x2)\n",
        "\n",
        "#init vals\n",
        "x0 = np.zeros(2)\n",
        "\n",
        "#params\n",
        "individual_limits = (0, np.inf)\n",
        "group_limits = (individual_limits, individual_limits)\n",
        "css_1 = {'type': 'ineq', 'fun': cons1_3}\n",
        "\n",
        "#solution\n",
        "sol = minimize(obj_3, x0, method='SLSQP', bounds=group_limits, constraints=css_1)\n",
        "\n",
        "#print solution\n",
        "print(\"El maximo es: \", -sol.fun)"
      ],
      "execution_count": 0,
      "outputs": [
        {
          "output_type": "stream",
          "text": [
            "El maximo es:  11.500000000000002\n"
          ],
          "name": "stdout"
        }
      ]
    },
    {
      "cell_type": "markdown",
      "metadata": {
        "id": "VnnbgW4QNBci",
        "colab_type": "text"
      },
      "source": [
        "Task 4\n",
        "\n",
        "*Investigue una aplicación de Algoritmos Genéticos, entienda y esté listo para explicar todas las partes:*\n",
        "\n",
        "Basado en el paper de Francesco Castellani and Giordano Franceschini de la Universidad de Perugia (https://www.academia.edu/8251757/Use_of_Genetic_Algorithms_as_an_Innovative_Tool_for_Race_Car_Design), en donde se decribe el uso de algoritmoa genetico para la generación de diseños de carros de carrera, se puede definir los siguientes componentes de este algoritmo genetico de la siguiente manera:\n",
        "\n",
        "*   Alelos: r(r) y r(f) son los **radios de llantas tracera y delanteras** respectivamente, m(tot) es la **masa total**, m(r) y m(f) son las **masas traceras y delanteras** respectivamente, R es la **resistencia aerodinámica**, p(r) y p(f) son los **radios de giración de las llantas**, L es el **lift** del carro y R la **tracción** del carro.\n",
        "*   Genoma: **Se presenta cada uno de los alelos en un número entre 0 y 1 en un array donde la posición del número describe un alelo especifico.** La desincripción de estos numeros se hace individualmente al multiplicarlos por un número constante según el alelo, permitiendo así que el alelo se mantenga siempre en una ventana con valores razonables para el diseño de un carro.\n",
        "*   Fenotipo: El fenotipo de cada carro se presenta en resultados de funciones basadas en los alelos, con lo que se llega al:**torque** del carro, el **momento de giro** (Mr), el **peso total**, la **fuerza en las llantas delanteras**, la **fuerza centrifugal**, y las **fuerzas de grip** del carro.\n",
        "*   Fitness: Basado el torque, aerodinamica,  fuerza en las llantas delanteras, limite en giro, distribución de carga, lift y tracción, se modela una corrida de los carros con una misma unidad de potencia (motor) en una pista de carreras diseñada especificamente para probar diferentes partes del carro. **Los tiempos de corrida en la pista es el fitness del carro diseñado, entre menor el tiempo mayor el fitness.**\n",
        "*   Criterios de selección: (en el paper se utilizaron varios metodos pero aquí se concentrara en el que se denomino como Steady-State GA). **Se toma unicamente a una n cantidad de individuos de la generación, los cuales tienen los mejores scores de fitness, los cuales se pasan a la nueva generación. El resto de la población es remplazada con los hijos de la generación pasada.**\n",
        "*   Criterio de cruce: (en el paper se utilizaron varios metodos pero aquí se concentrara en el que se denomino como Steady-State GA) **Para este se permite el cruce entre cualquier individuo dentro de la generación.**\n",
        "*   Criterios de mutación: (en el paper no especifican el método de mutuación utilizado, sin embargo se estará dando una suposición informada) **Basado en una probabilidad de mutuación un porcentaje n de la nueva población muta un solo alelo elegido al azar a la hora del cruce entre dos individuos. Este alelo especifico puede aumentar o disminuir su valor (en su escala de 0 a 1) por un número aleatoreo en un rango de [-x, x] (siendo x es un número menor a 0.5 elegido antes de iniciar la simulación) siempre y cuando no se salga de su de su escala de 0 y 1.**\n",
        "\n"
      ]
    }
  ]
}